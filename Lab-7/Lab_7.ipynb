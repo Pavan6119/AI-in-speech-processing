{
 "cells": [
  {
   "cell_type": "markdown",
   "id": "3cf94132",
   "metadata": {},
   "source": [
    "**LAB 07 \n",
    "BL.EN.U4AIE21061\n",
    "K.S.Pavan**"
   ]
  },
  {
   "cell_type": "markdown",
   "id": "f6e41770",
   "metadata": {},
   "source": [
    "**Use HMM for classification of your speech signal using STFT features**"
   ]
  },
  {
   "cell_type": "code",
   "execution_count": 1,
   "id": "d225609a",
   "metadata": {},
   "outputs": [
    {
     "name": "stdout",
     "output_type": "stream",
     "text": [
      "Collecting hmmlearn\n",
      "  Obtaining dependency information for hmmlearn from https://files.pythonhosted.org/packages/d5/92/a2596ee2d064100e6927937e5d71b9b3bfc3e29ad7d80e9e413e3904f71e/hmmlearn-0.3.2-cp311-cp311-macosx_10_9_universal2.whl.metadata\n",
      "  Downloading hmmlearn-0.3.2-cp311-cp311-macosx_10_9_universal2.whl.metadata (2.9 kB)\n",
      "Requirement already satisfied: numpy>=1.10 in /Users/dasari_lalith/anaconda3/lib/python3.11/site-packages (from hmmlearn) (1.24.3)\n",
      "Requirement already satisfied: scikit-learn!=0.22.0,>=0.16 in /Users/dasari_lalith/anaconda3/lib/python3.11/site-packages (from hmmlearn) (1.3.0)\n",
      "Requirement already satisfied: scipy>=0.19 in /Users/dasari_lalith/anaconda3/lib/python3.11/site-packages (from hmmlearn) (1.11.1)\n",
      "Requirement already satisfied: joblib>=1.1.1 in /Users/dasari_lalith/anaconda3/lib/python3.11/site-packages (from scikit-learn!=0.22.0,>=0.16->hmmlearn) (1.2.0)\n",
      "Requirement already satisfied: threadpoolctl>=2.0.0 in /Users/dasari_lalith/anaconda3/lib/python3.11/site-packages (from scikit-learn!=0.22.0,>=0.16->hmmlearn) (2.2.0)\n",
      "Downloading hmmlearn-0.3.2-cp311-cp311-macosx_10_9_universal2.whl (195 kB)\n",
      "\u001b[2K   \u001b[90m━━━━━━━━━━━━━━━━━━━━━━━━━━━━━━━━━━━━━━━━\u001b[0m \u001b[32m195.2/195.2 kB\u001b[0m \u001b[31m1.9 MB/s\u001b[0m eta \u001b[36m0:00:00\u001b[0ma \u001b[36m0:00:01\u001b[0mm\n",
      "\u001b[?25hInstalling collected packages: hmmlearn\n",
      "Successfully installed hmmlearn-0.3.2\n",
      "Note: you may need to restart the kernel to use updated packages.\n"
     ]
    }
   ],
   "source": [
    "pip install hmmlearn"
   ]
  },
  {
   "cell_type": "code",
   "execution_count": 2,
   "id": "55baae82",
   "metadata": {},
   "outputs": [],
   "source": [
    "import numpy as np\n",
    "import librosa\n",
    "import librosa.display\n",
    "import matplotlib.pyplot as plt\n",
    "from hmmlearn import hmm"
   ]
  },
  {
   "cell_type": "code",
   "execution_count": null,
   "id": "0dd0f0c8",
   "metadata": {},
   "outputs": [],
   "source": [
    "import numpy as np\n",
    "import librosa\n",
    "import librosa.display\n",
    "import matplotlib.pyplot as plt\n",
    "from hmmlearn import hmm\n",
    "\n",
    "def load_audio(file_path):\n",
    "    y, sr = librosa.load(file_path, sr=None)\n",
    "    return y, sr\n",
    "\n",
    "def stft_features(y, sr):\n",
    "    stft = np.abs(librosa.stft(y))\n",
    "    return stft\n",
    "\n",
    "def train_hmm(features, n_components=3, n_iter=100):\n",
    "    model = hmm.GaussianHMM(n_components=n_components, covariance_type=\"diag\", n_iter=n_iter)\n",
    "    model.fit(features)\n",
    "    return model\n",
    "\n",
    "def plot_stft(stft, sr):\n",
    "    plt.figure(figsize=(12, 6))\n",
    "    librosa.display.specshow(librosa.amplitude_to_db(stft, ref=np.max), sr=sr, x_axis='time', y_axis='log')\n",
    "    plt.colorbar(format='%+2.0f dB')\n",
    "    plt.title('STFT')\n",
    "    plt.show()\n",
    "\n",
    "def classify_signal(model, features):\n",
    "    # Predict using the trained HMM model\n",
    "    labels = model.predict(features.T)  # Transpose features to fit HMM's requirement\n",
    "    return labels\n",
    "\n",
    "def main():\n",
    "    audio_file_path = \"s1.wav\"\n",
    "    \n",
    "    # Load audio\n",
    "    y, sr = load_audio(audio_file_path)\n",
    "    \n",
    "    # Extract STFT features\n",
    "    stft = stft_features(y, sr)\n",
    "    \n",
    "    # Plot STFT\n",
    "    plot_stft(stft, sr)\n",
    "    \n",
    "    # Train HMM\n",
    "    model = train_hmm(stft.T)  # Transpose stft to fit HMM's requirement\n",
    "    \n",
    "    # Classify signal using trained HMM\n",
    "    labels = classify_signal(model, stft)\n",
    "    \n",
    "    # Plot the classification result\n",
    "    plt.figure(figsize=(12, 6))\n",
    "    plt.plot(np.arange(len(labels)), labels, label='Classified State')\n",
    "    plt.xlabel('Time')\n",
    "    plt.ylabel('State')\n",
    "    plt.title('HMM Classification Result')\n",
    "    plt.legend()\n",
    "    plt.show()\n",
    "\n",
    "    # Print trained model parameters\n",
    "    print(\"HMM Model Parameters:\")\n",
    "    print(\"Transition Matrix:\")\n",
    "    print(model.transmat_)\n",
    "    print(\"Means:\")\n",
    "    print(model.means_)\n",
    "    print(\"Covariances:\")\n",
    "    print(model.covars_)\n",
    "    \n",
    "if __name__ == \"__main__\":\n",
    "    main()\n"
   ]
  },
  {
   "cell_type": "code",
   "execution_count": null,
   "id": "5bd24f22",
   "metadata": {},
   "outputs": [],
   "source": []
  }
 ],
 "metadata": {
  "kernelspec": {
   "display_name": "Python 3 (ipykernel)",
   "language": "python",
   "name": "python3"
  },
  "language_info": {
   "codemirror_mode": {
    "name": "ipython",
    "version": 3
   },
   "file_extension": ".py",
   "mimetype": "text/x-python",
   "name": "python",
   "nbconvert_exporter": "python",
   "pygments_lexer": "ipython3",
   "version": "3.9.13"
  }
 },
 "nbformat": 4,
 "nbformat_minor": 5
}
